{
 "cells": [
  {
   "cell_type": "markdown",
   "metadata": {},
   "source": [
    "# Graph implementation (Adjacency List)"
   ]
  },
  {
   "cell_type": "code",
   "execution_count": 15,
   "metadata": {},
   "outputs": [],
   "source": [
    "class vertex:\n",
    "    def __init__(self, key, distance = None, prev = None, color = 'white'):\n",
    "        self.key = key\n",
    "        self.connectedto = {}\n",
    "        self.distance = distance\n",
    "        self.prev = prev\n",
    "        self.color = color\n",
    "\n",
    "    def addNeighbour(self, vert, weight):\n",
    "        self.connectedto[vert] = weight\n",
    "    \n",
    "    def getConnections(self):\n",
    "        return self.connectedto.keys()\n",
    "    \n",
    "    def getId(self):\n",
    "        return self.key\n",
    "    \n",
    "    def getWeight(self, nbr):\n",
    "        return self.connectedto[nbr]\n",
    "    \n",
    "    def __str__(self):\n",
    "        return str(self.key) + '  connected to  ' + str([x.key for x in self.connectedto])\n",
    "    \n",
    "    def setDistance(self, number):\n",
    "        self.distance = number\n",
    "        \n",
    "    def getPred(self):\n",
    "        return self.prev\n",
    "    \n",
    "    def setPred(self, node):\n",
    "        self.prev = node\n",
    "        \n",
    "    def getColor(self):\n",
    "        return self.color\n",
    "    \n",
    "    def setColor(self, color):\n",
    "        self.color = color\n",
    "    \n",
    "    def setDistance(self, distance):\n",
    "        self.distance = distance\n",
    "        \n",
    "    def getDistance(self):\n",
    "        return self.distance\n"
   ]
  },
  {
   "cell_type": "code",
   "execution_count": 16,
   "metadata": {},
   "outputs": [],
   "source": [
    "class graph:\n",
    "    def __init__(self):\n",
    "        self.vertList = {}\n",
    "        self.numVertices = 0\n",
    "        \n",
    "    def addVertex(self, key):\n",
    "        self.numVertices += 1\n",
    "        t = vertex(key)\n",
    "        self.vertList[key] = t\n",
    "        return t\n",
    "    \n",
    "    def getVertex(self, n):\n",
    "        if n in self.verList:\n",
    "            return self.verList[n]\n",
    "        else:\n",
    "            return None\n",
    "    \n",
    "    def __contains__(self, n):\n",
    "        return n in self.vertList\n",
    "    \n",
    "    def addEdge(self, a, b, weight = 0):\n",
    "        if a not in self.vertList:\n",
    "            nv = self.addVertex(a)\n",
    "        if b not in self.vertList:\n",
    "            nv = self.addVertex(b)\n",
    "        self.vertList[a].addNeighbour(self.vertList[b], weight)\n",
    "    \n",
    "    def getVertices(self):\n",
    "        return self.vertList.keys()\n",
    "    \n",
    "    def getVertex(self, n):\n",
    "        if n in self.vertList:\n",
    "            return self.vertList[n]\n",
    "        else:\n",
    "            return None\n",
    "    \n",
    "    def __iter__(self):\n",
    "        return iter(self.vertList.values())\n"
   ]
  },
  {
   "cell_type": "code",
   "execution_count": 17,
   "metadata": {},
   "outputs": [],
   "source": [
    "g = Graph()"
   ]
  },
  {
   "cell_type": "code",
   "execution_count": 18,
   "metadata": {},
   "outputs": [],
   "source": [
    "for i in range(6):\n",
    "    g.addVertex(i)"
   ]
  },
  {
   "cell_type": "code",
   "execution_count": 19,
   "metadata": {},
   "outputs": [
    {
     "data": {
      "text/plain": [
       "{0: <__main__.Vertex at 0x17ed7e06240>,\n",
       " 1: <__main__.Vertex at 0x17ed7e06128>,\n",
       " 2: <__main__.Vertex at 0x17ed7e06438>,\n",
       " 3: <__main__.Vertex at 0x17ed7e06828>,\n",
       " 4: <__main__.Vertex at 0x17ed7e065c0>,\n",
       " 5: <__main__.Vertex at 0x17ed7e06c18>}"
      ]
     },
     "execution_count": 19,
     "metadata": {},
     "output_type": "execute_result"
    }
   ],
   "source": [
    "g.vertList"
   ]
  },
  {
   "cell_type": "code",
   "execution_count": 20,
   "metadata": {},
   "outputs": [],
   "source": [
    ">>> g.addEdge(0,1,5)\n",
    ">>> g.addEdge(0,5,2)\n",
    ">>> g.addEdge(1,2,4)\n",
    ">>> g.addEdge(2,3,9)\n",
    ">>> g.addEdge(3,4,7)\n",
    ">>> g.addEdge(3,5,3)\n",
    ">>> g.addEdge(4,0,1)\n",
    ">>> g.addEdge(5,4,8)\n",
    ">>> g.addEdge(5,2,1)"
   ]
  },
  {
   "cell_type": "code",
   "execution_count": 21,
   "metadata": {},
   "outputs": [
    {
     "name": "stdout",
     "output_type": "stream",
     "text": [
      "( 0 , 1 )\n",
      "( 0 , 5 )\n",
      "( 1 , 2 )\n",
      "( 2 , 3 )\n",
      "( 3 , 4 )\n",
      "( 3 , 5 )\n",
      "( 4 , 0 )\n",
      "( 5 , 4 )\n",
      "( 5 , 2 )\n"
     ]
    }
   ],
   "source": [
    "for v in g:\n",
    "    for w in v.getConnections():\n",
    "        print(\"( %s , %s )\" % (v.getId(), w.getId()))"
   ]
  },
  {
   "cell_type": "markdown",
   "metadata": {},
   "source": [
    "# The Word Ladder Problem"
   ]
  },
  {
   "cell_type": "code",
   "execution_count": 22,
   "metadata": {},
   "outputs": [],
   "source": [
    "def makeGraph():\n",
    "    g = graph()\n",
    "    words = open('words.txt', 'r')\n",
    "    dictionary = dict()\n",
    "    \n",
    "    for i in words:\n",
    "        word = i[:-1]\n",
    "        for j in range(len(word)):\n",
    "            dword = word[:j] + '_' + word[j+1:]\n",
    "            if dword in dictionary:\n",
    "                dictionary[dword].append(word)\n",
    "            else:\n",
    "                dictionary[dword] = [word]\n",
    "    \n",
    "    for i in dictionary.keys():\n",
    "        for word1 in dictionary[i]:\n",
    "            for word2 in dictionary[i]:\n",
    "                if word1 != word2:\n",
    "                    g.addEdge(word1, word2)\n",
    "    \n",
    "    return g\n",
    "\n"
   ]
  },
  {
   "cell_type": "code",
   "execution_count": 23,
   "metadata": {},
   "outputs": [
    {
     "name": "stdout",
     "output_type": "stream",
     "text": [
      "fail  connected to  ['foil', 'fall']\n",
      "foil  connected to  ['fail', 'foul', 'fool']\n",
      "fall  connected to  ['fail', 'pall']\n",
      "foul  connected to  ['foil', 'fool']\n",
      "fool  connected to  ['foil', 'foul', 'cool', 'pool']\n",
      "cool  connected to  ['fool', 'pool']\n",
      "pool  connected to  ['fool', 'cool', 'poll']\n",
      "poll  connected to  ['pool', 'pall', 'pole']\n",
      "pall  connected to  ['poll', 'fall', 'pale']\n",
      "pole  connected to  ['poll', 'pale', 'pope']\n",
      "pale  connected to  ['pole', 'pall', 'sale', 'page']\n",
      "pope  connected to  ['pole']\n",
      "sale  connected to  ['pale']\n",
      "page  connected to  ['pale']\n"
     ]
    }
   ],
   "source": [
    "returned = makeGraph()\n",
    "\n",
    "for i in returned:\n",
    "    print(i)"
   ]
  },
  {
   "cell_type": "code",
   "execution_count": 27,
   "metadata": {},
   "outputs": [],
   "source": [
    "class queue:\n",
    "    def __init__(self):\n",
    "        self.lis = []\n",
    "    \n",
    "    def enqueue(self, element):\n",
    "        self.lis.insert(0, element)\n",
    "    \n",
    "    def dequeue(self):\n",
    "        return self.lis.pop(len(self.lis) - 1)\n",
    "    \n",
    "    def size(self):\n",
    "        return len(self.lis)"
   ]
  },
  {
   "cell_type": "code",
   "execution_count": 28,
   "metadata": {},
   "outputs": [],
   "source": [
    "def bfs(g, start):\n",
    "    start.setDistance(0)\n",
    "    start.setPred(None)\n",
    "    vertQueue = queue()\n",
    "    vertQueue.enqueue(start)\n",
    "    while vertQueue.size() > 0:\n",
    "        currentVert = vertQueue.dequeue()\n",
    "        for nbr in currentVert.getConnections():\n",
    "            if nbr.getColor() == 'white':\n",
    "                nbr.setColor('grey')\n",
    "                nbr.setDistance(currentVert.getDistance() + 1)\n",
    "                nbr.setPred(currentVert)\n",
    "                vertQueue.enqueue(nbr)\n",
    "        currentVert.setColor('black')\n",
    "    return g\n",
    "\n",
    "reutrned = bfs(returned, returned.getVertex('fool'))"
   ]
  },
  {
   "cell_type": "code",
   "execution_count": 30,
   "metadata": {},
   "outputs": [
    {
     "name": "stdout",
     "output_type": "stream",
     "text": [
      "sale\n",
      "pale\n",
      "pall\n",
      "poll\n",
      "pool\n",
      "fool\n"
     ]
    }
   ],
   "source": [
    "def traverse(y):\n",
    "    x = y\n",
    "    while x.getPred():\n",
    "        print(x.getId())\n",
    "        x = x.getPred()\n",
    "    print(x.getId())\n",
    "\n",
    "traverse(reutrned.getVertex('sale'))"
   ]
  },
  {
   "cell_type": "markdown",
   "metadata": {},
   "source": [
    "# Djkstra algorithm"
   ]
  },
  {
   "cell_type": "code",
   "execution_count": 38,
   "metadata": {},
   "outputs": [],
   "source": [
    "class PriorityQueue(object): \n",
    "    def __init__(self): \n",
    "        self.queue = [] \n",
    "  \n",
    "    def __str__(self): \n",
    "        return ' '.join([str(i) for i in self.queue]) \n",
    "  \n",
    "    def isEmpty(self): \n",
    "        return len(self.queue) == 0\n",
    "\n",
    "    def insert(self, data): \n",
    "        self.queue.append(data) \n",
    "  \n",
    "\n",
    "    def delete(self): \n",
    "        try: \n",
    "            max = 0\n",
    "            for i in range(len(self.queue)): \n",
    "                if self.queue[i] > self.queue[max]: \n",
    "                    max = i \n",
    "            item = self.queue[max] \n",
    "            del self.queue[max] \n",
    "            return item \n",
    "        except IndexError: \n",
    "            print() \n",
    "            exit()"
   ]
  },
  {
   "cell_type": "code",
   "execution_count": 37,
   "metadata": {},
   "outputs": [],
   "source": [
    "def dijkstra(aGraph,start):\n",
    "    pq = PriorityQueue()\n",
    "    start.setDistance(0)\n",
    "    pq.buildHeap([(v.getDistance(),v) for v in aGraph])\n",
    "    while not pq.isEmpty():\n",
    "        currentVert = pq.delMin()\n",
    "        for nextVert in currentVert.getConnections():\n",
    "            newDist = currentVert.getDistance() \\\n",
    "                    + currentVert.getWeight(nextVert)\n",
    "            if newDist < nextVert.getDistance():\n",
    "                nextVert.setDistance( newDist )\n",
    "                nextVert.setPred(currentVert)\n",
    "                pq.decreaseKey(nextVert,newDist)"
   ]
  },
  {
   "cell_type": "markdown",
   "metadata": {},
   "source": [
    "# Prim spanning tree"
   ]
  },
  {
   "cell_type": "code",
   "execution_count": 39,
   "metadata": {},
   "outputs": [],
   "source": [
    "def prim(G,start):\n",
    "    pq = PriorityQueue()\n",
    "    for v in G:\n",
    "        v.setDistance(sys.maxsize)\n",
    "        v.setPred(None)\n",
    "    start.setDistance(0)\n",
    "    pq.buildHeap([(v.getDistance(),v) for v in G])\n",
    "    while not pq.isEmpty():\n",
    "        currentVert = pq.delMin()\n",
    "        for nextVert in currentVert.getConnections():\n",
    "            newCost = currentVert.getWeight(nextVert)\n",
    "            if nextVert in pq and newCost<nextVert.getDistance():\n",
    "                nextVert.setPred(currentVert)\n",
    "                nextVert.setDistance(newCost)\n",
    "                pq.decreaseKey(nextVert,newCost)"
   ]
  }
 ],
 "metadata": {
  "kernelspec": {
   "display_name": "Python 3",
   "language": "python",
   "name": "python3"
  },
  "language_info": {
   "codemirror_mode": {
    "name": "ipython",
    "version": 3
   },
   "file_extension": ".py",
   "mimetype": "text/x-python",
   "name": "python",
   "nbconvert_exporter": "python",
   "pygments_lexer": "ipython3",
   "version": "3.7.1"
  }
 },
 "nbformat": 4,
 "nbformat_minor": 4
}
