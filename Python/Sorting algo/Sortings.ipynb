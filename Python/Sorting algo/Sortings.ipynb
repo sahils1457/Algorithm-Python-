{
 "cells": [
  {
   "cell_type": "markdown",
   "metadata": {},
   "source": [
    "# Sequential Search"
   ]
  },
  {
   "cell_type": "code",
   "execution_count": 2,
   "metadata": {},
   "outputs": [
    {
     "name": "stdout",
     "output_type": "stream",
     "text": [
      "False\n",
      "True\n"
     ]
    }
   ],
   "source": [
    "def sequential_search(a_list, item):\n",
    "    pos = 0\n",
    "\n",
    "    while pos < len(a_list):\n",
    "        if a_list[pos] == item:\n",
    "            return True\n",
    "        else:\n",
    "            pos = pos + 1\n",
    "\n",
    "    return False\n",
    "\n",
    "\n",
    "test_list = [1, 2, 32, 8, 17, 19, 42, 13, 0]\n",
    "print(sequential_search(test_list, 3))\n",
    "print(sequential_search(test_list, 13))"
   ]
  },
  {
   "cell_type": "markdown",
   "metadata": {},
   "source": [
    "## ordered sequential search"
   ]
  },
  {
   "cell_type": "code",
   "execution_count": 3,
   "metadata": {},
   "outputs": [
    {
     "name": "stdout",
     "output_type": "stream",
     "text": [
      "False\n",
      "True\n"
     ]
    }
   ],
   "source": [
    "def ordered_sequential_search(a_list, item):\n",
    "    pos = 0\n",
    "    while pos < len(a_list):\n",
    "        if a_list[pos] == item:\n",
    "            return True\n",
    "        else:\n",
    "            if a_list[pos] > item:\n",
    "                return False\n",
    "            else:\n",
    "                pos = pos + 1\n",
    "\n",
    "    return False\n",
    "\n",
    "\n",
    "test_list = [0, 1, 2, 8, 13, 17, 19, 32, 42]\n",
    "print(ordered_sequential_search(test_list, 3))\n",
    "print(ordered_sequential_search(test_list, 13))\n"
   ]
  },
  {
   "cell_type": "markdown",
   "metadata": {},
   "source": [
    "# Binary Search"
   ]
  },
  {
   "cell_type": "code",
   "execution_count": 4,
   "metadata": {},
   "outputs": [
    {
     "name": "stdout",
     "output_type": "stream",
     "text": [
      "False\n",
      "True\n"
     ]
    }
   ],
   "source": [
    "def binary_search_rec(a_list, item):\n",
    "    if len(a_list) == 0:\n",
    "        return False\n",
    "    else:\n",
    "        midpoint = len(a_list) // 2\n",
    "        if a_list[midpoint] == item:\n",
    "            return True\n",
    "        elif item < a_list[midpoint]:\n",
    "            return binary_search_rec(\n",
    "                a_list[:midpoint], item\n",
    "            )\n",
    "        else:\n",
    "            return binary_search_rec(\n",
    "                a_list[midpoint + 1 :], item\n",
    "            )\n",
    "\n",
    "\n",
    "test_list = [0, 1, 2, 8, 13, 17, 19, 32, 42]\n",
    "\n",
    "print(binary_search_rec(test_list, 3))\n",
    "print(binary_search_rec(test_list, 13))"
   ]
  },
  {
   "cell_type": "markdown",
   "metadata": {},
   "source": [
    "# Hashing"
   ]
  },
  {
   "cell_type": "code",
   "execution_count": 6,
   "metadata": {},
   "outputs": [],
   "source": [
    "class HashTable:\n",
    "    def __init__(self):\n",
    "        self.size = 11\n",
    "        self.slots = [None] * self.size\n",
    "        self.data = [None] * self.size\n",
    "    def put(self, key, data):\n",
    "        hash_value = self.hash_function(key, len(self.slots))\n",
    "\n",
    "        if self.slots[hash_value] is None:\n",
    "            self.slots[hash_value] = key\n",
    "            self.data[hash_value] = data\n",
    "        else:\n",
    "            if self.slots[hash_value] == key:\n",
    "                self.data[hash_value] = data  # replace\n",
    "            else:\n",
    "                next_slot = self.rehash(hash_value, len(self.slots))\n",
    "                while (\n",
    "                    self.slots[next_slot] is not None\n",
    "                    and self.slots[next_slot] != key\n",
    "                ):\n",
    "                    next_slot = self.rehash(next_slot, len(self.slots))\n",
    "\n",
    "                if self.slots[next_slot] is None:\n",
    "                    self.slots[next_slot] = key\n",
    "                    self.data[next_slot] = data\n",
    "                else:\n",
    "                    self.data[next_slot] = data\n",
    "\n",
    "    def hash_function(self, key, size):\n",
    "        return key % size\n",
    "\n",
    "    def rehash(self, old_hash, size):\n",
    "        return (old_hash + 1) % size\n",
    "    def get(self, key):\n",
    "        start_slot = self.hash_function(key, len(self.slots))\n",
    "\n",
    "        position = start_slot\n",
    "        while self.slots[position] is not None:\n",
    "            if self.slots[position] == key:\n",
    "                return self.data[position]\n",
    "            else:\n",
    "                position = self.rehash(position, len(self.slots))\n",
    "                if position == start_slot:\n",
    "                    return None\n",
    "\n",
    "    def __getitem__(self, key):\n",
    "        return self.get(key)\n",
    "\n",
    "    def __setitem__(self, key, data):\n",
    "        self.put(key, data)"
   ]
  },
  {
   "cell_type": "code",
   "execution_count": 7,
   "metadata": {},
   "outputs": [
    {
     "name": "stdout",
     "output_type": "stream",
     "text": [
      "[None, None, None, None, None, 93, None, None, None, 20, 31]\n",
      "[None, None, None, None, None, 'lion', None, None, None, 'chicken', 'cow']\n"
     ]
    }
   ],
   "source": [
    "h = HashTable()\n",
    "h[20] = \"chicken\"\n",
    "h[31] = \"cow\"\n",
    "h[93] = \"lion\"\n",
    "print(h.slots)\n",
    "print(h.data)"
   ]
  },
  {
   "cell_type": "markdown",
   "metadata": {},
   "source": [
    "# Bubble Sort"
   ]
  },
  {
   "cell_type": "code",
   "execution_count": 8,
   "metadata": {},
   "outputs": [
    {
     "name": "stdout",
     "output_type": "stream",
     "text": [
      "[20, 30, 40, 50, 60, 70, 80, 90, 100, 110]\n"
     ]
    }
   ],
   "source": [
    "def bubble_sort_short(a_list):\n",
    "    for i in range(len(a_list) - 1, 0, -1):\n",
    "        exchanges = False\n",
    "        for j in range(i):\n",
    "            if a_list[j] > a_list[j + 1]:\n",
    "                exchanges = True\n",
    "                a_list[j], a_list[j + 1] = a_list[j + 1], a_list[j]\n",
    "        if not exchanges:\n",
    "            break\n",
    "\n",
    "\n",
    "a_list = [20, 30, 40, 90, 50, 60, 70, 80, 100, 110]\n",
    "bubble_sort_short(a_list)\n",
    "print(a_list)"
   ]
  },
  {
   "cell_type": "markdown",
   "metadata": {},
   "source": [
    "# Selection Sort"
   ]
  },
  {
   "cell_type": "code",
   "execution_count": 9,
   "metadata": {},
   "outputs": [
    {
     "name": "stdout",
     "output_type": "stream",
     "text": [
      "[17, 20, 26, 31, 44, 54, 55, 77, 93]\n"
     ]
    }
   ],
   "source": [
    "def selection_sort(a_list):\n",
    "    for i, item in enumerate(a_list):\n",
    "        min_idx = len(a_list) - 1\n",
    "        for j in range(i, len(a_list)):\n",
    "            if a_list[j] < a_list[min_idx]:\n",
    "                min_idx = j\n",
    "        if min_idx != i:\n",
    "            a_list[min_idx], a_list[i] = a_list[i], a_list[min_idx]\n",
    "\n",
    "\n",
    "a_list = [54, 26, 93, 17, 77, 31, 44, 55, 20]\n",
    "selection_sort(a_list)\n",
    "print(a_list)\n"
   ]
  },
  {
   "cell_type": "markdown",
   "metadata": {},
   "source": [
    "# Insertion Sort"
   ]
  },
  {
   "cell_type": "code",
   "execution_count": 11,
   "metadata": {},
   "outputs": [
    {
     "name": "stdout",
     "output_type": "stream",
     "text": [
      "[17, 20, 26, 31, 44, 54, 55, 77, 93]\n"
     ]
    }
   ],
   "source": [
    "def insertion_sort(a_list):\n",
    "    for i in range(1, len(a_list)):\n",
    "        cur_val = a_list[i]\n",
    "        cur_pos = i\n",
    "\n",
    "        while cur_pos > 0 and a_list[cur_pos - 1] > cur_val:\n",
    "            a_list[cur_pos] = a_list[cur_pos - 1]\n",
    "            cur_pos = cur_pos - 1\n",
    "        a_list[cur_pos] = cur_val\n",
    "\n",
    "\n",
    "a_list = [54, 26, 93, 17, 77, 31, 44, 55, 20]\n",
    "insertion_sort(a_list)\n",
    "print(a_list)\n"
   ]
  },
  {
   "cell_type": "markdown",
   "metadata": {},
   "source": [
    "# Shell Sort"
   ]
  },
  {
   "cell_type": "code",
   "execution_count": 12,
   "metadata": {},
   "outputs": [
    {
     "name": "stdout",
     "output_type": "stream",
     "text": [
      "After increments of size 4 the list is [20, 26, 44, 17, 54, 31, 93, 55, 77]\n",
      "After increments of size 2 the list is [20, 17, 44, 26, 54, 31, 77, 55, 93]\n",
      "After increments of size 1 the list is [17, 20, 26, 31, 44, 54, 55, 77, 93]\n",
      "[17, 20, 26, 31, 44, 54, 55, 77, 93]\n"
     ]
    }
   ],
   "source": [
    "def shell_sort(a_list):\n",
    "    sublist_count = len(a_list) // 2\n",
    "    while sublist_count > 0:\n",
    "        for pos_start in range(sublist_count):\n",
    "            gap_insertion_sort(a_list, pos_start, sublist_count)\n",
    "        print(\"After increments of size\", sublist_count, \"the list is\", a_list)\n",
    "        sublist_count = sublist_count // 2\n",
    "\n",
    "\n",
    "def gap_insertion_sort(a_list, start, gap):\n",
    "    for i in range(start + gap, len(a_list), gap):\n",
    "        cur_val = a_list[i]\n",
    "        cur_pos = i\n",
    "        while cur_pos >= gap and a_list[cur_pos - gap] > cur_val:\n",
    "            a_list[cur_pos] = a_list[cur_pos - gap]\n",
    "            cur_pos = cur_pos - gap\n",
    "        a_list[cur_pos] = cur_val\n",
    "\n",
    "\n",
    "a_list = [54, 26, 93, 17, 77, 31, 44, 55, 20]\n",
    "shell_sort(a_list)\n",
    "print(a_list)\n"
   ]
  },
  {
   "cell_type": "markdown",
   "metadata": {},
   "source": [
    "# Merge Sort"
   ]
  },
  {
   "cell_type": "code",
   "execution_count": 13,
   "metadata": {},
   "outputs": [
    {
     "name": "stdout",
     "output_type": "stream",
     "text": [
      "Splitting [54, 26, 93, 17, 77, 31, 44, 55, 20]\n",
      "Splitting [54, 26, 93, 17]\n",
      "Splitting [54, 26]\n",
      "Splitting [54]\n",
      "Merging [54]\n",
      "Splitting [26]\n",
      "Merging [26]\n",
      "Merging [26, 54]\n",
      "Splitting [93, 17]\n",
      "Splitting [93]\n",
      "Merging [93]\n",
      "Splitting [17]\n",
      "Merging [17]\n",
      "Merging [17, 93]\n",
      "Merging [17, 26, 54, 93]\n",
      "Splitting [77, 31, 44, 55, 20]\n",
      "Splitting [77, 31]\n",
      "Splitting [77]\n",
      "Merging [77]\n",
      "Splitting [31]\n",
      "Merging [31]\n",
      "Merging [31, 77]\n",
      "Splitting [44, 55, 20]\n",
      "Splitting [44]\n",
      "Merging [44]\n",
      "Splitting [55, 20]\n",
      "Splitting [55]\n",
      "Merging [55]\n",
      "Splitting [20]\n",
      "Merging [20]\n",
      "Merging [20, 55]\n",
      "Merging [20, 44, 55]\n",
      "Merging [20, 31, 44, 55, 77]\n",
      "Merging [17, 20, 26, 31, 44, 54, 55, 77, 93]\n",
      "[17, 20, 26, 31, 44, 54, 55, 77, 93]\n"
     ]
    }
   ],
   "source": [
    "def merge_sort(a_list):\n",
    "    print(\"Splitting\", a_list)\n",
    "    if len(a_list) > 1:\n",
    "        mid = len(a_list) // 2\n",
    "        left_half = a_list[:mid]\n",
    "        right_half = a_list[mid:]\n",
    "\n",
    "        merge_sort(left_half)\n",
    "        merge_sort(right_half)\n",
    "\n",
    "        i, j, k = 0, 0, 0\n",
    "        while i < len(left_half) and j < len(right_half):\n",
    "            if left_half[i] <= right_half[j]:\n",
    "                a_list[k] = left_half[i]\n",
    "                i = i + 1\n",
    "            else:\n",
    "                a_list[k] = right_half[j]\n",
    "                j = j + 1\n",
    "            k = k + 1\n",
    "\n",
    "        while i < len(left_half):\n",
    "            a_list[k] = left_half[i]\n",
    "            i = i + 1\n",
    "            k = k + 1\n",
    "\n",
    "        while j < len(right_half):\n",
    "            a_list[k] = right_half[j]\n",
    "            j = j + 1\n",
    "            k = k + 1\n",
    "    print(\"Merging\", a_list)\n",
    "\n",
    "\n",
    "a_list = [54, 26, 93, 17, 77, 31, 44, 55, 20]\n",
    "merge_sort(a_list)\n",
    "print(a_list)"
   ]
  },
  {
   "cell_type": "markdown",
   "metadata": {},
   "source": [
    "# Quick Sort"
   ]
  },
  {
   "cell_type": "code",
   "execution_count": 14,
   "metadata": {},
   "outputs": [
    {
     "name": "stdout",
     "output_type": "stream",
     "text": [
      "[17, 20, 26, 31, 44, 54, 55, 77, 93]\n"
     ]
    }
   ],
   "source": [
    "def quick_sort(a_list):\n",
    "    quick_sort_helper(a_list, 0, len(a_list) - 1)\n",
    "\n",
    "\n",
    "def quick_sort_helper(a_list, first, last):\n",
    "    if first < last:\n",
    "        split = partition(a_list, first, last)\n",
    "        quick_sort_helper(a_list, first, split - 1)\n",
    "        quick_sort_helper(a_list, split + 1, last)\n",
    "\n",
    "\n",
    "def partition(a_list, first, last):\n",
    "    pivot_val = a_list[first]\n",
    "    left_mark = first + 1\n",
    "    right_mark = last\n",
    "    done = False\n",
    "\n",
    "    while not done:\n",
    "        while left_mark <= right_mark and a_list[left_mark] <= pivot_val:\n",
    "            left_mark = left_mark + 1\n",
    "        while left_mark <= right_mark and a_list[right_mark] >= pivot_val:\n",
    "            right_mark = right_mark - 1\n",
    "        if right_mark < left_mark:\n",
    "            done = True\n",
    "        else:\n",
    "            a_list[left_mark], a_list[right_mark] = (\n",
    "                a_list[right_mark],\n",
    "                a_list[left_mark],\n",
    "            )\n",
    "    a_list[first], a_list[right_mark] = a_list[right_mark], a_list[first]\n",
    "\n",
    "    return right_mark\n",
    "\n",
    "\n",
    "a_list = [54, 26, 93, 17, 77, 31, 44, 55, 20]\n",
    "quick_sort(a_list)\n",
    "print(a_list)\n"
   ]
  }
 ],
 "metadata": {
  "kernelspec": {
   "display_name": "Python 3",
   "language": "python",
   "name": "python3"
  },
  "language_info": {
   "codemirror_mode": {
    "name": "ipython",
    "version": 3
   },
   "file_extension": ".py",
   "mimetype": "text/x-python",
   "name": "python",
   "nbconvert_exporter": "python",
   "pygments_lexer": "ipython3",
   "version": "3.7.1"
  }
 },
 "nbformat": 4,
 "nbformat_minor": 4
}
