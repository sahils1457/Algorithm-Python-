{
 "cells": [
  {
   "cell_type": "raw",
   "metadata": {},
   "source": [
    "In this project we use this API endpoint that has a static subset of the Google Data:\n",
    "- http://py4e-data.dr-chuck.net/geojson?\n",
    "\n",
    "Our main objective is to extract the address, longitude and latitude of the location given by the user \n",
    "There are limited number of locations on the URL above"
   ]
  },
  {
   "cell_type": "code",
   "execution_count": 1,
   "metadata": {},
   "outputs": [
    {
     "name": "stdout",
     "output_type": "stream",
     "text": [
      "Enter location: Belgrade University\n",
      "Retrieving http://py4e-data.dr-chuck.net/geojson?address=Belgrade+University\n",
      "Retrieved 2270 characters\n",
      "lat 33.0430635 lng -96.72549579999999\n",
      "Belgrade Dr, Plano, TX 75023, USA\n",
      "Do you want to continue: \"Yes\":1, \"No\":0 :-   0\n"
     ]
    }
   ],
   "source": [
    "import urllib.request, urllib.parse, urllib.error\n",
    "import json\n",
    "want = True\n",
    "serviceurl = 'http://py4e-data.dr-chuck.net/geojson?'\n",
    "\n",
    "while want:\n",
    "    address = input('Enter location: ')\n",
    "    if len(address) < 1: break\n",
    "\n",
    "    url = serviceurl + urllib.parse.urlencode(\n",
    "        {'address': address})\n",
    "\n",
    "    print('Retrieving', url)\n",
    "    uh = urllib.request.urlopen(url)\n",
    "    data = uh.read().decode()\n",
    "    print('Retrieved', len(data), 'characters')\n",
    "\n",
    "    try:\n",
    "        js = json.loads(data)\n",
    "    except:\n",
    "        js = None\n",
    "\n",
    "    if not js or 'status' not in js or js['status'] != 'OK':\n",
    "        print('==== Failure To Retrieve ====')\n",
    "        print(data)\n",
    "        continue\n",
    "        \n",
    "    lat = js[\"results\"][0][\"geometry\"][\"location\"][\"lat\"]\n",
    "    lng = js[\"results\"][0][\"geometry\"][\"location\"][\"lng\"]\n",
    "    print('lat', lat, 'lng', lng)\n",
    "    location = js['results'][0]['formatted_address']\n",
    "    print(location)\n",
    "    \n",
    "    continu = input('Do you want to continue: \"Yes\":1, \"No\":0 :-   ')\n",
    "    if continu == '0':\n",
    "        want = False"
   ]
  },
  {
   "cell_type": "code",
   "execution_count": null,
   "metadata": {},
   "outputs": [],
   "source": []
  }
 ],
 "metadata": {
  "kernelspec": {
   "display_name": "Python 3",
   "language": "python",
   "name": "python3"
  },
  "language_info": {
   "codemirror_mode": {
    "name": "ipython",
    "version": 3
   },
   "file_extension": ".py",
   "mimetype": "text/x-python",
   "name": "python",
   "nbconvert_exporter": "python",
   "pygments_lexer": "ipython3",
   "version": "3.7.1"
  }
 },
 "nbformat": 4,
 "nbformat_minor": 4
}
